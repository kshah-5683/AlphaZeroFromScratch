{
  "nbformat": 4,
  "nbformat_minor": 0,
  "metadata": {
    "colab": {
      "provenance": [],
      "authorship_tag": "ABX9TyPvrM8wwc6AVZS03RKQ4PXD",
      "include_colab_link": true
    },
    "kernelspec": {
      "name": "python3",
      "display_name": "Python 3"
    },
    "language_info": {
      "name": "python"
    }
  },
  "cells": [
    {
      "cell_type": "markdown",
      "metadata": {
        "id": "view-in-github",
        "colab_type": "text"
      },
      "source": [
        "<a href=\"https://colab.research.google.com/github/kshah-5683/AlphaZeroFromScratch/blob/main/TicTacToe.ipynb\" target=\"_parent\"><img src=\"https://colab.research.google.com/assets/colab-badge.svg\" alt=\"Open In Colab\"/></a>"
      ]
    },
    {
      "cell_type": "code",
      "execution_count": 1,
      "metadata": {
        "id": "E9qzjOWBLwdJ"
      },
      "outputs": [],
      "source": [
        "import numpy as np\n",
        "import math"
      ]
    },
    {
      "cell_type": "code",
      "source": [
        "class TicTacToe:\n",
        "    def __init__(self):\n",
        "        self.row_count = 3\n",
        "        self.column_count = 3\n",
        "        self.action_size = self.row_count * self.column_count\n",
        "        \n",
        "    def get_initial_state(self):\n",
        "        return np.zeros((self.row_count, self.column_count))\n",
        "    \n",
        "    def get_next_state(self, state, action, player):\n",
        "        row = action // self.column_count\n",
        "        column = action % self.column_count\n",
        "        state[row, column] = player\n",
        "        return state\n",
        "    \n",
        "    def get_valid_moves(self, state):\n",
        "        return (state.reshape(-1) == 0).astype(np.uint8)\n",
        "    \n",
        "    def check_win(self, state, action):\n",
        "        row = action // self.column_count\n",
        "        column = action % self.column_count\n",
        "        player = state[row, column]\n",
        "        \n",
        "        return (\n",
        "            np.sum(state[row, :]) == player * self.column_count   #checking row wise\n",
        "            or np.sum(state[:, column]) == player * self.row_count #column wise \n",
        "            or np.sum(np.diag(state)) == player * self.row_count   #one diagonal \n",
        "            or np.sum(np.diag(np.flip(state, axis=0))) == player * self.row_count  #other diagonal \n",
        "        )\n",
        "    \n",
        "    def get_value_and_terminated(self, state, action):\n",
        "        if self.check_win(state, action):\n",
        "            return 1, True\n",
        "        if np.sum(self.get_valid_moves(state)) == 0:\n",
        "            return 0, True\n",
        "        return 0, False\n",
        "    \n",
        "    def get_opponent(self, player):\n",
        "        return -player"
      ],
      "metadata": {
        "id": "sMQ969iox9AH"
      },
      "execution_count": 2,
      "outputs": []
    },
    {
      "cell_type": "code",
      "source": [
        "tictactoe = TicTacToe()\n",
        "player = 1\n",
        "\n",
        "state = tictactoe.get_initial_state()\n",
        "\n",
        "\n",
        "while True:\n",
        "    print(state)\n",
        "    valid_moves = tictactoe.get_valid_moves(state)\n",
        "    print(\"valid_moves\", [i for i in range(tictactoe.action_size) if valid_moves[i] == 1])\n",
        "    action = int(input(f\"{player}:\"))\n",
        "    \n",
        "    if valid_moves[action] == 0:\n",
        "        print(\"action not valid\")\n",
        "        continue\n",
        "        \n",
        "    state = tictactoe.get_next_state(state, action, player)\n",
        "    \n",
        "    value, is_terminal = tictactoe.get_value_and_terminated(state, action)\n",
        "    \n",
        "    if is_terminal:\n",
        "        print(state)\n",
        "        if value == 1:\n",
        "            print(player, \"won\")\n",
        "        else:\n",
        "            print(\"draw\")\n",
        "        break\n",
        "        \n",
        "    player = tictactoe.get_opponent(player)\n",
        "    "
      ],
      "metadata": {
        "colab": {
          "base_uri": "https://localhost:8080/"
        },
        "id": "rTcwhJF_yQ-5",
        "outputId": "88c9f15b-5aa7-44e9-9951-35b75b0167cb"
      },
      "execution_count": 3,
      "outputs": [
        {
          "output_type": "stream",
          "name": "stdout",
          "text": [
            "[[0. 0. 0.]\n",
            " [0. 0. 0.]\n",
            " [0. 0. 0.]]\n",
            "valid_moves [0, 1, 2, 3, 4, 5, 6, 7, 8]\n",
            "1:1\n",
            "[[0. 1. 0.]\n",
            " [0. 0. 0.]\n",
            " [0. 0. 0.]]\n",
            "valid_moves [0, 2, 3, 4, 5, 6, 7, 8]\n",
            "-1:2\n",
            "[[ 0.  1. -1.]\n",
            " [ 0.  0.  0.]\n",
            " [ 0.  0.  0.]]\n",
            "valid_moves [0, 3, 4, 5, 6, 7, 8]\n",
            "1:0\n",
            "[[ 1.  1. -1.]\n",
            " [ 0.  0.  0.]\n",
            " [ 0.  0.  0.]]\n",
            "valid_moves [3, 4, 5, 6, 7, 8]\n",
            "-1:5\n",
            "[[ 1.  1. -1.]\n",
            " [ 0.  0. -1.]\n",
            " [ 0.  0.  0.]]\n",
            "valid_moves [3, 4, 6, 7, 8]\n",
            "1:4\n",
            "[[ 1.  1. -1.]\n",
            " [ 0.  1. -1.]\n",
            " [ 0.  0.  0.]]\n",
            "valid_moves [3, 6, 7, 8]\n",
            "-1:8\n",
            "[[ 1.  1. -1.]\n",
            " [ 0.  1. -1.]\n",
            " [ 0.  0. -1.]]\n",
            "-1 won\n"
          ]
        }
      ]
    }
  ]
}